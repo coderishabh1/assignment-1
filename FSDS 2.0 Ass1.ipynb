{
 "cells": [
  {
   "cell_type": "markdown",
   "id": "413ca061",
   "metadata": {},
   "source": [
    "# Ans 1\n",
    "\n",
    "    Values\n",
    "    1: 'hello'\n",
    "    2: -87.8\n",
    "    Expression\n",
    "    1: *\n",
    "    2: /\n",
    "    3:+\n",
    "    4:-"
   ]
  },
  {
   "cell_type": "markdown",
   "id": "df46d914",
   "metadata": {},
   "source": [
    "# Ans 2 \n",
    "Variable :\n",
    "variables are the empaty containers and used for the store the data in the programme.\n",
    "String:\n",
    "Strings are data, so we can use them to fill up a variable."
   ]
  },
  {
   "cell_type": "markdown",
   "id": "0739db50",
   "metadata": {},
   "source": [
    "# Ans 3\n",
    "1: int - holds signed integers of non-limited length.\n",
    "2: The string is a sequence of characters. Python supports Unicode characters. \n",
    "Generally, strings are represented by either single or double-quotes.\n",
    "3: The list is a versatile data type exclusive in Python. In a sense, it is the same as the array in C/C++. \n",
    "    But the interesting thing about the list in Python is it can simultaneously hold different types of data.\n"
   ]
  },
  {
   "cell_type": "markdown",
   "id": "91dccc28",
   "metadata": {},
   "source": [
    "# Ans 4\n",
    "An expression in Python is a combination of operators and operants. \n",
    "An example of expression can be : a = a + 1 0 ,b = b + 10 ,g=b+10"
   ]
  },
  {
   "cell_type": "markdown",
   "id": "41aa3b35",
   "metadata": {},
   "source": [
    "# Ans 5\n",
    "Statement represent the action or commond like input statement.\n",
    "Expression is a combination of variables, operations and values that yields a result value. Save this answer."
   ]
  },
  {
   "cell_type": "code",
   "execution_count": 2,
   "id": "8b795622",
   "metadata": {},
   "outputs": [
    {
     "data": {
      "text/plain": [
       "23"
      ]
     },
     "execution_count": 2,
     "metadata": {},
     "output_type": "execute_result"
    }
   ],
   "source": [
    "# Ans 6\n",
    "bacon = 22\n",
    "bacon + 1\n",
    "# output is 23 \n"
   ]
  },
  {
   "cell_type": "code",
   "execution_count": 3,
   "id": "a8ec6d22",
   "metadata": {},
   "outputs": [
    {
     "data": {
      "text/plain": [
       "'spamspamspam'"
      ]
     },
     "execution_count": 3,
     "metadata": {},
     "output_type": "execute_result"
    }
   ],
   "source": [
    "# Ans 7\n",
    "'spam'+'spamspam'\n",
    "'spam'*3\n",
    "#output \n",
    "#'spamspamspam'"
   ]
  },
  {
   "cell_type": "markdown",
   "id": "2b05b74e",
   "metadata": {},
   "source": [
    "# Ans 8 \n",
    "Because the variable name can not stars from the integer \n",
    "eggs ==>valid \n",
    "100==> invalid"
   ]
  },
  {
   "cell_type": "markdown",
   "id": "12225d36",
   "metadata": {},
   "source": [
    "# Ans 9\n",
    "int \n",
    "float \n",
    "str"
   ]
  },
  {
   "cell_type": "code",
   "execution_count": 7,
   "id": "a6589baa",
   "metadata": {},
   "outputs": [
    {
     "data": {
      "text/plain": [
       "'i have eaten 99 burritos'"
      ]
     },
     "execution_count": 7,
     "metadata": {},
     "output_type": "execute_result"
    }
   ],
   "source": [
    "# Ans 10\n",
    "#'i have eaten '+ 99 +'burritos'\n",
    "\n",
    "'i have eaten '+ '99 ' + 'burritos'"
   ]
  },
  {
   "cell_type": "code",
   "execution_count": null,
   "id": "75b3219d",
   "metadata": {},
   "outputs": [],
   "source": []
  }
 ],
 "metadata": {
  "kernelspec": {
   "display_name": "Python 3 (ipykernel)",
   "language": "python",
   "name": "python3"
  },
  "language_info": {
   "codemirror_mode": {
    "name": "ipython",
    "version": 3
   },
   "file_extension": ".py",
   "mimetype": "text/x-python",
   "name": "python",
   "nbconvert_exporter": "python",
   "pygments_lexer": "ipython3",
   "version": "3.9.12"
  }
 },
 "nbformat": 4,
 "nbformat_minor": 5
}
